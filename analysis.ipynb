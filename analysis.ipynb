{
 "cells": [
  {
   "cell_type": "markdown",
   "metadata": {},
   "source": [
    "# extraction of components of All opinion about certain product from Ceneo.pl service and analysis\n"
   ]
  },
  {
   "cell_type": "markdown",
   "metadata": {},
   "source": [
    "# Provide url for certain product \n"
   ]
  },
  {
   "cell_type": "code",
   "execution_count": 32,
   "metadata": {},
   "outputs": [],
   "source": [
    "from nltk.stem import SnowballStemmer\n",
    "from nltk.sentiment.vader import SentimentIntensityAnalyzer\n",
    "from sklearn.feature_extraction.text import CountVectorizer"
   ]
  },
  {
   "cell_type": "code",
   "execution_count": 14,
   "metadata": {},
   "outputs": [
    {
     "name": "stdout",
     "output_type": "stream",
     "text": [
      "input Url:   \n"
     ]
    },
    {
     "ename": "WebDriverException",
     "evalue": "Message: unknown error: cannot determine loading status\nfrom unknown error: cannot determine loading status\nfrom disconnected: received Inspector.detached event\n  (Session info: chrome=88.0.4324.182)\n",
     "output_type": "error",
     "traceback": [
      "\u001b[0;31m---------------------------------------------------------------------------\u001b[0m",
      "\u001b[0;31mWebDriverException\u001b[0m                        Traceback (most recent call last)",
      "\u001b[0;32m<ipython-input-14-6ca5f263f797>\u001b[0m in \u001b[0;36m<module>\u001b[0;34m\u001b[0m\n\u001b[1;32m     20\u001b[0m \u001b[0mdriver\u001b[0m \u001b[0;34m=\u001b[0m \u001b[0mwebdriver\u001b[0m\u001b[0;34m.\u001b[0m\u001b[0mChrome\u001b[0m\u001b[0;34m(\u001b[0m\u001b[0;34m)\u001b[0m\u001b[0;34m\u001b[0m\u001b[0;34m\u001b[0m\u001b[0m\n\u001b[1;32m     21\u001b[0m \u001b[0mdriver\u001b[0m\u001b[0;34m.\u001b[0m\u001b[0mmaximize_window\u001b[0m\u001b[0;34m(\u001b[0m\u001b[0;34m)\u001b[0m\u001b[0;34m\u001b[0m\u001b[0;34m\u001b[0m\u001b[0m\n\u001b[0;32m---> 22\u001b[0;31m \u001b[0mdriver\u001b[0m\u001b[0;34m.\u001b[0m\u001b[0mget\u001b[0m\u001b[0;34m(\u001b[0m\u001b[0mpro\u001b[0m\u001b[0;34m)\u001b[0m\u001b[0;34m\u001b[0m\u001b[0;34m\u001b[0m\u001b[0m\n\u001b[0m\u001b[1;32m     23\u001b[0m \u001b[0msleep\u001b[0m\u001b[0;34m(\u001b[0m\u001b[0;36m2\u001b[0m\u001b[0;34m)\u001b[0m\u001b[0;34m\u001b[0m\u001b[0;34m\u001b[0m\u001b[0m\n",
      "\u001b[0;32m~/anaconda3/envs/env/lib/python3.7/site-packages/selenium/webdriver/remote/webdriver.py\u001b[0m in \u001b[0;36mget\u001b[0;34m(self, url)\u001b[0m\n\u001b[1;32m    331\u001b[0m         \u001b[0mLoads\u001b[0m \u001b[0ma\u001b[0m \u001b[0mweb\u001b[0m \u001b[0mpage\u001b[0m \u001b[0;32min\u001b[0m \u001b[0mthe\u001b[0m \u001b[0mcurrent\u001b[0m \u001b[0mbrowser\u001b[0m \u001b[0msession\u001b[0m\u001b[0;34m.\u001b[0m\u001b[0;34m\u001b[0m\u001b[0;34m\u001b[0m\u001b[0m\n\u001b[1;32m    332\u001b[0m         \"\"\"\n\u001b[0;32m--> 333\u001b[0;31m         \u001b[0mself\u001b[0m\u001b[0;34m.\u001b[0m\u001b[0mexecute\u001b[0m\u001b[0;34m(\u001b[0m\u001b[0mCommand\u001b[0m\u001b[0;34m.\u001b[0m\u001b[0mGET\u001b[0m\u001b[0;34m,\u001b[0m \u001b[0;34m{\u001b[0m\u001b[0;34m'url'\u001b[0m\u001b[0;34m:\u001b[0m \u001b[0murl\u001b[0m\u001b[0;34m}\u001b[0m\u001b[0;34m)\u001b[0m\u001b[0;34m\u001b[0m\u001b[0;34m\u001b[0m\u001b[0m\n\u001b[0m\u001b[1;32m    334\u001b[0m \u001b[0;34m\u001b[0m\u001b[0m\n\u001b[1;32m    335\u001b[0m     \u001b[0;34m@\u001b[0m\u001b[0mproperty\u001b[0m\u001b[0;34m\u001b[0m\u001b[0;34m\u001b[0m\u001b[0m\n",
      "\u001b[0;32m~/anaconda3/envs/env/lib/python3.7/site-packages/selenium/webdriver/remote/webdriver.py\u001b[0m in \u001b[0;36mexecute\u001b[0;34m(self, driver_command, params)\u001b[0m\n\u001b[1;32m    319\u001b[0m         \u001b[0mresponse\u001b[0m \u001b[0;34m=\u001b[0m \u001b[0mself\u001b[0m\u001b[0;34m.\u001b[0m\u001b[0mcommand_executor\u001b[0m\u001b[0;34m.\u001b[0m\u001b[0mexecute\u001b[0m\u001b[0;34m(\u001b[0m\u001b[0mdriver_command\u001b[0m\u001b[0;34m,\u001b[0m \u001b[0mparams\u001b[0m\u001b[0;34m)\u001b[0m\u001b[0;34m\u001b[0m\u001b[0;34m\u001b[0m\u001b[0m\n\u001b[1;32m    320\u001b[0m         \u001b[0;32mif\u001b[0m \u001b[0mresponse\u001b[0m\u001b[0;34m:\u001b[0m\u001b[0;34m\u001b[0m\u001b[0;34m\u001b[0m\u001b[0m\n\u001b[0;32m--> 321\u001b[0;31m             \u001b[0mself\u001b[0m\u001b[0;34m.\u001b[0m\u001b[0merror_handler\u001b[0m\u001b[0;34m.\u001b[0m\u001b[0mcheck_response\u001b[0m\u001b[0;34m(\u001b[0m\u001b[0mresponse\u001b[0m\u001b[0;34m)\u001b[0m\u001b[0;34m\u001b[0m\u001b[0;34m\u001b[0m\u001b[0m\n\u001b[0m\u001b[1;32m    322\u001b[0m             response['value'] = self._unwrap_value(\n\u001b[1;32m    323\u001b[0m                 response.get('value', None))\n",
      "\u001b[0;32m~/anaconda3/envs/env/lib/python3.7/site-packages/selenium/webdriver/remote/errorhandler.py\u001b[0m in \u001b[0;36mcheck_response\u001b[0;34m(self, response)\u001b[0m\n\u001b[1;32m    240\u001b[0m                 \u001b[0malert_text\u001b[0m \u001b[0;34m=\u001b[0m \u001b[0mvalue\u001b[0m\u001b[0;34m[\u001b[0m\u001b[0;34m'alert'\u001b[0m\u001b[0;34m]\u001b[0m\u001b[0;34m.\u001b[0m\u001b[0mget\u001b[0m\u001b[0;34m(\u001b[0m\u001b[0;34m'text'\u001b[0m\u001b[0;34m)\u001b[0m\u001b[0;34m\u001b[0m\u001b[0;34m\u001b[0m\u001b[0m\n\u001b[1;32m    241\u001b[0m             \u001b[0;32mraise\u001b[0m \u001b[0mexception_class\u001b[0m\u001b[0;34m(\u001b[0m\u001b[0mmessage\u001b[0m\u001b[0;34m,\u001b[0m \u001b[0mscreen\u001b[0m\u001b[0;34m,\u001b[0m \u001b[0mstacktrace\u001b[0m\u001b[0;34m,\u001b[0m \u001b[0malert_text\u001b[0m\u001b[0;34m)\u001b[0m\u001b[0;34m\u001b[0m\u001b[0;34m\u001b[0m\u001b[0m\n\u001b[0;32m--> 242\u001b[0;31m         \u001b[0;32mraise\u001b[0m \u001b[0mexception_class\u001b[0m\u001b[0;34m(\u001b[0m\u001b[0mmessage\u001b[0m\u001b[0;34m,\u001b[0m \u001b[0mscreen\u001b[0m\u001b[0;34m,\u001b[0m \u001b[0mstacktrace\u001b[0m\u001b[0;34m)\u001b[0m\u001b[0;34m\u001b[0m\u001b[0;34m\u001b[0m\u001b[0m\n\u001b[0m\u001b[1;32m    243\u001b[0m \u001b[0;34m\u001b[0m\u001b[0m\n\u001b[1;32m    244\u001b[0m     \u001b[0;32mdef\u001b[0m \u001b[0m_value_or_default\u001b[0m\u001b[0;34m(\u001b[0m\u001b[0mself\u001b[0m\u001b[0;34m,\u001b[0m \u001b[0mobj\u001b[0m\u001b[0;34m,\u001b[0m \u001b[0mkey\u001b[0m\u001b[0;34m,\u001b[0m \u001b[0mdefault\u001b[0m\u001b[0;34m)\u001b[0m\u001b[0;34m:\u001b[0m\u001b[0;34m\u001b[0m\u001b[0;34m\u001b[0m\u001b[0m\n",
      "\u001b[0;31mWebDriverException\u001b[0m: Message: unknown error: cannot determine loading status\nfrom unknown error: cannot determine loading status\nfrom disconnected: received Inspector.detached event\n  (Session info: chrome=88.0.4324.182)\n"
     ]
    }
   ],
   "source": [
    "import re\n",
    "import csv\n",
    "from getpass import getpass\n",
    "from time import sleep\n",
    "from selenium.webdriver.common.keys import Keys\n",
    "from selenium.common.exceptions import NoSuchElementException\n",
    "from selenium import webdriver\n",
    "import pandas as pd\n",
    "import time\n",
    "from selenium.common.exceptions import NoSuchElementException\n",
    "from googletrans import Translator\n",
    "\n",
    "pro = input(\"input Url:   \")\n",
    "if pro=='':\n",
    "    pro= 'https://www.ceneo.pl/71872729'\n",
    "    \n",
    "pro=pro.strip()\n",
    "\n",
    "\n",
    "driver = webdriver.Chrome()\n",
    "driver.maximize_window()\n",
    "driver.get(pro)\n",
    "sleep(2)"
   ]
  },
  {
   "cell_type": "code",
   "execution_count": 3,
   "metadata": {},
   "outputs": [],
   "source": [
    "# <h1 class=\"c\" data-onselect=\"true\" data-tooltip-autowidth=\"true\" productlink=\"#\"> TEFAL LOFT KO250840</h1>\n",
    "try:\n",
    "    productname = driver.find_elements_by_class_name(\"product-top-2020__product-info__name.js_product-h1-link.js_product-force-scroll.js_searchInGoogleTooltip.default-cursor\")\n",
    "    productname=productname[0].text\n",
    "except:\n",
    "    productname=\"\"\n"
   ]
  },
  {
   "cell_type": "code",
   "execution_count": 4,
   "metadata": {},
   "outputs": [],
   "source": [
    "def scroll():\n",
    "    \n",
    "    last_position = driver.execute_script(\"return window.pageYOffset;\")\n",
    "    scrolling = True\n",
    "\n",
    "    while scrolling:\n",
    "        \n",
    "        scroll_attempt = 0\n",
    "        while True:\n",
    "            # check scroll position\n",
    "            driver.execute_script('window.scrollTo(0, document.body.scrollHeight);')\n",
    "            sleep(2)\n",
    "            curr_position = driver.execute_script(\"return window.pageYOffset;\")\n",
    "            if last_position == curr_position:\n",
    "                scroll_attempt += 1\n",
    "\n",
    "                # end of scroll region\n",
    "                if scroll_attempt >= 2:\n",
    "                    scrolling = False\n",
    "                    break\n",
    "                else:\n",
    "                    sleep(2) # attempt another scroll\n",
    "            else:\n",
    "                last_position = curr_position\n",
    "\n",
    "                break\n",
    "\n"
   ]
  },
  {
   "cell_type": "code",
   "execution_count": 5,
   "metadata": {},
   "outputs": [
    {
     "name": "stdout",
     "output_type": "stream",
     "text": [
      "Starting to scrape Reviews\n",
      "End of Reviews\n"
     ]
    }
   ],
   "source": [
    "listuser=[]\n",
    "listuserscoer=[]\n",
    "listpublised=[]\n",
    "listtext=[]\n",
    "print(\"Starting to scrape Reviews\")\n",
    "\n",
    "while True:\n",
    "    scroll()\n",
    "    try:\n",
    "        more = driver.find_elements_by_class_name(\"page-tab-content.reviews.tab-control__item--reviews.theme__bg--primary.cf\")\n",
    "        more = more[0].find_elements_by_class_name(\"tab-control__more\")\n",
    "        more[0].click()\n",
    "        sleep(2)\n",
    "        scroll()\n",
    "    except:\n",
    "        pass\n",
    "    \n",
    "    \n",
    "    \n",
    "    \n",
    "    try:\n",
    "        product_reviews_container = driver.find_elements_by_class_name(\"js_product-reviews.js_reviews-hook.js_product-reviews-container\")\n",
    "        listofreviews=product_reviews_container[0].find_elements_by_class_name(\"user-post.user-post__card.js_product-review\")\n",
    "        \n",
    "        \n",
    "        \n",
    "        if len(listofreviews)>0:\n",
    "            for r in listofreviews:\n",
    "\n",
    "        #     r=listofreviews[0]\n",
    "                try:\n",
    "                    user = r.find_elements_by_class_name(\"user-post__author-name\")\n",
    "                    user=user[0].text\n",
    "                except:\n",
    "                    user=\"\"\n",
    "                try:\n",
    "                    user_score_count = r.find_elements_by_class_name(\"user-post__score-count\")\n",
    "                    user_score_count=user_score_count[0].text\n",
    "                except:\n",
    "                    user_score_count=\"\"\n",
    "\n",
    "                try:\n",
    "                    post__published = r.find_elements_by_class_name(\"user-post__published\")\n",
    "                    post__published=post__published[0].text\n",
    "                except:\n",
    "                    post__published=\"\"\n",
    "                try:\n",
    "                    post_text = r.find_elements_by_class_name(\"user-post__text\")\n",
    "                    post_text=post_text[0].text\n",
    "                except:\n",
    "                    post_text=\"\"\n",
    "                listuser.append(user)\n",
    "                listuserscoer.append(user_score_count)\n",
    "                listpublised.append(post__published)\n",
    "                listtext.append(post_text)\n",
    "\n",
    "\n",
    "\n",
    "\n",
    "        else:\n",
    "            print(\"No Review Found\")\n",
    "    except:\n",
    "        pass\n",
    "    \n",
    "    \n",
    "    try:\n",
    "        pegination = driver.find_elements_by_class_name(\"pagination\")\n",
    "        pegination = pegination[0].find_elements_by_class_name(\"pagination__item.pagination__next\")\n",
    "        pegination[0].click()\n",
    "        sleep(2)\n",
    "    except:\n",
    "        print(\"End of Reviews\")\n",
    "        break\n",
    "\n",
    "        \n",
    "    \n",
    "        \n",
    "        \n",
    "    "
   ]
  },
  {
   "cell_type": "code",
   "execution_count": 6,
   "metadata": {},
   "outputs": [],
   "source": [
    "driver.close()\n"
   ]
  },
  {
   "cell_type": "code",
   "execution_count": 7,
   "metadata": {},
   "outputs": [
    {
     "data": {
      "text/html": [
       "<div>\n",
       "<style scoped>\n",
       "    .dataframe tbody tr th:only-of-type {\n",
       "        vertical-align: middle;\n",
       "    }\n",
       "\n",
       "    .dataframe tbody tr th {\n",
       "        vertical-align: top;\n",
       "    }\n",
       "\n",
       "    .dataframe thead th {\n",
       "        text-align: right;\n",
       "    }\n",
       "</style>\n",
       "<table border=\"1\" class=\"dataframe\">\n",
       "  <thead>\n",
       "    <tr style=\"text-align: right;\">\n",
       "      <th></th>\n",
       "      <th>User</th>\n",
       "      <th>Score Count</th>\n",
       "      <th>Post Published</th>\n",
       "      <th>Post Text</th>\n",
       "    </tr>\n",
       "  </thead>\n",
       "  <tbody>\n",
       "    <tr>\n",
       "      <th>0</th>\n",
       "      <td>Szymon</td>\n",
       "      <td>5/5</td>\n",
       "      <td>Wystawiono 2 lata temu, po 4 dniach użytkowania</td>\n",
       "      <td>Design rewelacja, kolor czarny ma swój urok al...</td>\n",
       "    </tr>\n",
       "    <tr>\n",
       "      <th>1</th>\n",
       "      <td>Marcin</td>\n",
       "      <td>3,5/5</td>\n",
       "      <td>Wystawiono 2 lata temu, po 2 tygodniach użytko...</td>\n",
       "      <td>Na rysunku wyglądał dużo lepiej. Duży minus za...</td>\n",
       "    </tr>\n",
       "    <tr>\n",
       "      <th>2</th>\n",
       "      <td>niezadowolonyKlientCostam</td>\n",
       "      <td>4/5</td>\n",
       "      <td>Wystawiono 3 lata temu, po 3 tygodniach użytko...</td>\n",
       "      <td>Produkt dość głośny. Ale bardzo ładny i ładnie...</td>\n",
       "    </tr>\n",
       "    <tr>\n",
       "      <th>3</th>\n",
       "      <td>k...6</td>\n",
       "      <td>5/5</td>\n",
       "      <td>Wystawiono 5 miesięcy temu, po miesiącu użytko...</td>\n",
       "      <td>Czajnik nie dosyć, że piękny (wiadomo to kwest...</td>\n",
       "    </tr>\n",
       "    <tr>\n",
       "      <th>4</th>\n",
       "      <td>m...9</td>\n",
       "      <td>5/5</td>\n",
       "      <td>Wystawiono 6 miesięcy temu, po miesiącu użytko...</td>\n",
       "      <td>Super czajnik, bardzo ładnie się prezentuje, ł...</td>\n",
       "    </tr>\n",
       "    <tr>\n",
       "      <th>...</th>\n",
       "      <td>...</td>\n",
       "      <td>...</td>\n",
       "      <td>...</td>\n",
       "      <td>...</td>\n",
       "    </tr>\n",
       "    <tr>\n",
       "      <th>70</th>\n",
       "      <td>w...l</td>\n",
       "      <td>5/5</td>\n",
       "      <td>Wystawiono 6 miesięcy temu, po tygodniu użytko...</td>\n",
       "      <td>supa</td>\n",
       "    </tr>\n",
       "    <tr>\n",
       "      <th>71</th>\n",
       "      <td>m...r</td>\n",
       "      <td>5/5</td>\n",
       "      <td>Wystawiono 9 miesięcy temu, po 2 tygodniach uż...</td>\n",
       "      <td>oki</td>\n",
       "    </tr>\n",
       "    <tr>\n",
       "      <th>72</th>\n",
       "      <td>f...i</td>\n",
       "      <td>4/5</td>\n",
       "      <td>Wystawiono 11 miesięcy temu, po miesiącu użytk...</td>\n",
       "      <td>Ok</td>\n",
       "    </tr>\n",
       "    <tr>\n",
       "      <th>73</th>\n",
       "      <td>e...a</td>\n",
       "      <td>5/5</td>\n",
       "      <td>Wystawiono 11 miesięcy temu, po 2 dniach użytk...</td>\n",
       "      <td>ok</td>\n",
       "    </tr>\n",
       "    <tr>\n",
       "      <th>74</th>\n",
       "      <td>Jola</td>\n",
       "      <td>3,5/5</td>\n",
       "      <td>Wystawiono 2 lata temu</td>\n",
       "      <td>Polecam. Czajnik spełnił oczekiwania moje i mo...</td>\n",
       "    </tr>\n",
       "  </tbody>\n",
       "</table>\n",
       "<p>75 rows × 4 columns</p>\n",
       "</div>"
      ],
      "text/plain": [
       "                         User Score Count  \\\n",
       "0                      Szymon         5/5   \n",
       "1                      Marcin       3,5/5   \n",
       "2   niezadowolonyKlientCostam         4/5   \n",
       "3                       k...6         5/5   \n",
       "4                       m...9         5/5   \n",
       "..                        ...         ...   \n",
       "70                      w...l         5/5   \n",
       "71                      m...r         5/5   \n",
       "72                      f...i         4/5   \n",
       "73                      e...a         5/5   \n",
       "74                       Jola       3,5/5   \n",
       "\n",
       "                                       Post Published  \\\n",
       "0     Wystawiono 2 lata temu, po 4 dniach użytkowania   \n",
       "1   Wystawiono 2 lata temu, po 2 tygodniach użytko...   \n",
       "2   Wystawiono 3 lata temu, po 3 tygodniach użytko...   \n",
       "3   Wystawiono 5 miesięcy temu, po miesiącu użytko...   \n",
       "4   Wystawiono 6 miesięcy temu, po miesiącu użytko...   \n",
       "..                                                ...   \n",
       "70  Wystawiono 6 miesięcy temu, po tygodniu użytko...   \n",
       "71  Wystawiono 9 miesięcy temu, po 2 tygodniach uż...   \n",
       "72  Wystawiono 11 miesięcy temu, po miesiącu użytk...   \n",
       "73  Wystawiono 11 miesięcy temu, po 2 dniach użytk...   \n",
       "74                             Wystawiono 2 lata temu   \n",
       "\n",
       "                                            Post Text  \n",
       "0   Design rewelacja, kolor czarny ma swój urok al...  \n",
       "1   Na rysunku wyglądał dużo lepiej. Duży minus za...  \n",
       "2   Produkt dość głośny. Ale bardzo ładny i ładnie...  \n",
       "3   Czajnik nie dosyć, że piękny (wiadomo to kwest...  \n",
       "4   Super czajnik, bardzo ładnie się prezentuje, ł...  \n",
       "..                                                ...  \n",
       "70                                               supa  \n",
       "71                                                oki  \n",
       "72                                                 Ok  \n",
       "73                                                 ok  \n",
       "74  Polecam. Czajnik spełnił oczekiwania moje i mo...  \n",
       "\n",
       "[75 rows x 4 columns]"
      ]
     },
     "execution_count": 7,
     "metadata": {},
     "output_type": "execute_result"
    }
   ],
   "source": [
    "data = {'User': listuser,'Score Count': listuserscoer,'Post Published':listpublised,'Post Text': listtext}  \n",
    "df = pd.DataFrame(data)  \n",
    "df"
   ]
  },
  {
   "cell_type": "code",
   "execution_count": 8,
   "metadata": {},
   "outputs": [],
   "source": [
    "df.to_csv(productname+\".csv\")\n"
   ]
  },
  {
   "cell_type": "code",
   "execution_count": 30,
   "metadata": {},
   "outputs": [],
   "source": [
    "for index, row in df.iterrows():\n",
    "    phrase = translator.translate(row[\"Post Text\"])\n",
    "    df.at[index, \"translated\"] = phrase\n",
    "    "
   ]
  },
  {
   "cell_type": "code",
   "execution_count": 33,
   "metadata": {},
   "outputs": [],
   "source": [
    "dff=df"
   ]
  },
  {
   "cell_type": "code",
   "execution_count": 35,
   "metadata": {},
   "outputs": [
    {
     "name": "stderr",
     "output_type": "stream",
     "text": [
      "/home/fahad/anaconda3/envs/env/lib/python3.7/site-packages/ipykernel_launcher.py:1: FutureWarning: The default value of regex will change from True to False in a future version.\n",
      "  \"\"\"Entry point for launching an IPython kernel.\n"
     ]
    },
    {
     "data": {
      "text/html": [
       "<div>\n",
       "<style scoped>\n",
       "    .dataframe tbody tr th:only-of-type {\n",
       "        vertical-align: middle;\n",
       "    }\n",
       "\n",
       "    .dataframe tbody tr th {\n",
       "        vertical-align: top;\n",
       "    }\n",
       "\n",
       "    .dataframe thead th {\n",
       "        text-align: right;\n",
       "    }\n",
       "</style>\n",
       "<table border=\"1\" class=\"dataframe\">\n",
       "  <thead>\n",
       "    <tr style=\"text-align: right;\">\n",
       "      <th></th>\n",
       "      <th>Total</th>\n",
       "      <th>Percentage</th>\n",
       "    </tr>\n",
       "  </thead>\n",
       "  <tbody>\n",
       "    <tr>\n",
       "      <th>positive</th>\n",
       "      <td>62</td>\n",
       "      <td>82.67</td>\n",
       "    </tr>\n",
       "    <tr>\n",
       "      <th>neutral</th>\n",
       "      <td>9</td>\n",
       "      <td>12.00</td>\n",
       "    </tr>\n",
       "    <tr>\n",
       "      <th>negative</th>\n",
       "      <td>4</td>\n",
       "      <td>5.33</td>\n",
       "    </tr>\n",
       "  </tbody>\n",
       "</table>\n",
       "</div>"
      ],
      "text/plain": [
       "          Total  Percentage\n",
       "positive     62       82.67\n",
       "neutral       9       12.00\n",
       "negative      4        5.33"
      ]
     },
     "execution_count": 35,
     "metadata": {},
     "output_type": "execute_result"
    }
   ],
   "source": [
    "\n",
    "dff[\"reviewtext\"] = dff['translated'].str.replace('[^\\w\\s]','')\n",
    "dff[\"reviewtext\"].replace({ r'\\A\\s+|\\s+\\Z': '', '\\n' : ' '}, regex=True, inplace=True)\n",
    "\n",
    "dff[\"reviewtext\"] = dff.reviewtext.str.lower()\n",
    "\n",
    "for index, row in dff[\"reviewtext\"].iteritems():\n",
    "    try:\n",
    "        \n",
    "        score = SentimentIntensityAnalyzer().polarity_scores(row)\n",
    "        neg = score['neg']\n",
    "        neu = score['neu']\n",
    "        pos = score['pos']\n",
    "        comp = score['compound']\n",
    "        if neg > pos:\n",
    "            dff.loc[index, 'sentiment'] = 'negative'\n",
    "        elif pos > neg:\n",
    "            dff.loc[index, 'sentiment'] = 'positive'\n",
    "        else:\n",
    "            dff.loc[index, 'sentiment'] = 'neutral'\n",
    "        dff.loc[index, 'neg'] = neg\n",
    "        dff.loc[index, 'neu'] = neu\n",
    "        dff.loc[index, 'pos'] = pos\n",
    "        dff.loc[index, 'compound'] = comp\n",
    "    except:\n",
    "        pass\n",
    "def count_values_in_column(data,feature):\n",
    "    total=data.loc[:,feature].value_counts(dropna=False)\n",
    "    percentage=round(data.loc[:,feature].value_counts(dropna=False,normalize=True)*100,2)\n",
    "    return pd.concat([total,percentage],axis=1,keys=['Total','Percentage'])#Count_values for sentiment\n",
    "dftext = count_values_in_column(dff,'sentiment')\n",
    "dftext\n"
   ]
  },
  {
   "cell_type": "code",
   "execution_count": 36,
   "metadata": {},
   "outputs": [
    {
     "data": {
      "text/plain": [
       "94.66666666666667"
      ]
     },
     "execution_count": 36,
     "metadata": {},
     "output_type": "execute_result"
    }
   ],
   "source": [
    "summ=dftext['Total'].sum()\n",
    "summ\n",
    "dftext.dropna()\n",
    "f = dftext\n",
    "f.dropna(inplace=True)\n",
    "f\n",
    "modified = f.reset_index()\n",
    "modified\n",
    "try:\n",
    "    \n",
    "    ng=modified[modified['index'] ==\"negative\"]\n",
    "    ng=ng[\"Total\"].tolist()\n",
    "    ng=ng[0]\n",
    "except:\n",
    "    ng=0\n",
    "try:\n",
    "    \n",
    "    nu=modified[modified['index'] ==\"neutral\"]\n",
    "    nu=nu[\"Total\"].tolist()\n",
    "    nu=nu[0]\n",
    "except:\n",
    "    nu=0\n",
    "nu\n",
    "try:\n",
    "    p=modified[modified['index'] ==\"positive\"]\n",
    "    p=p[\"Total\"].tolist()\n",
    "    p=p[0]\n",
    "except:\n",
    "    p=0\n",
    "\n",
    "finalscore=((p+nu)/summ)*100\n",
    "finalscore\n",
    "\n"
   ]
  },
  {
   "cell_type": "code",
   "execution_count": 37,
   "metadata": {},
   "outputs": [
    {
     "data": {
      "text/plain": [
       "<matplotlib.axes._subplots.AxesSubplot at 0x7fe45a689290>"
      ]
     },
     "execution_count": 37,
     "metadata": {},
     "output_type": "execute_result"
    },
    {
     "data": {
      "image/png": "[encoded data removed]",
      "text/plain": [
       "<Figure size 432x288 with 1 Axes>"
      ]
     },
     "metadata": {},
     "output_type": "display_data"
    }
   ],
   "source": [
    "dff['sentiment'].value_counts().plot(kind='pie')"
   ]
  },
  {
   "cell_type": "code",
   "execution_count": null,
   "metadata": {},
   "outputs": [],
   "source": []
  }
 ],
 "metadata": {
  "kernelspec": {
   "display_name": "Python 3",
   "language": "python",
   "name": "python3"
  },
  "language_info": {
   "codemirror_mode": {
    "name": "ipython",
    "version": 3
   },
   "file_extension": ".py",
   "mimetype": "text/x-python",
   "name": "python",
   "nbconvert_exporter": "python",
   "pygments_lexer": "ipython3",
   "version": "3.7.6"
  }
 },
 "nbformat": 4,
 "nbformat_minor": 4
}
